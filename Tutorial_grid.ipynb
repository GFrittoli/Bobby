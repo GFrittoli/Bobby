{
 "cells": [
  {
   "cell_type": "code",
   "execution_count": 1,
   "metadata": {},
   "outputs": [],
   "source": [
    "import numpy as np\n",
    "from CAMB_Gaussian_grid import compute_all_spectra\n",
    "from Classes import CAMBparameters, GalaxySurveyInfo\n"
   ]
  },
  {
   "cell_type": "code",
   "execution_count": 2,
   "metadata": {},
   "outputs": [],
   "source": [
    "\n",
    "# Constants\n",
    "step = 0.01\n",
    "epsilon = [-10*step,0*step, +10*step]\n",
    "\n",
    "\n",
    "# Define fiducial parameters\n",
    "fiducial_params = CAMBparameters(\n",
    "    As=2.12605e-9,\n",
    "    ns=0.96,\n",
    "    H0=67.0,\n",
    "    ombh2=0.05 * 0.67 ** 2,\n",
    "    omch2=0.268565 * 0.67 ** 2,\n",
    "    tau=0.058\n",
    ")\n"
   ]
  },
  {
   "cell_type": "code",
   "execution_count": 3,
   "metadata": {},
   "outputs": [],
   "source": [
    "\n",
    "path_save = '/home/guglielmo/Desktop/Codes/guglielmo/GR_test4'\n",
    "\n",
    "# Compute all spectra\n",
    "compute_fiducial = True\n",
    "zz = np.arange(0.001, 2.501, 0.001)\n",
    "z_med = 0.9\n",
    "z0 = z_med / np.sqrt(2)\n",
    "c_b = 1.0\n",
    "z_b = 0.0\n",
    "sigma_b = 0.05\n",
    "c_0 = 1.0\n",
    "z_0 = 0.1\n",
    "sigma_0 = 0.05\n",
    "f_out = 0.1\n",
    "z_bin_m = [0.001, 0.418, 0.560, 0.678, 0.789, 0.900, 1.019, 1.155, 1.324, 1.576, 2.500]\n",
    "z_bin_p = [0.001, 0.418, 0.560, 0.678, 0.789, 0.900, 1.019, 1.155, 1.324, 1.576, 2.500]\n",
    "epsilon = [-0.1,0, +0.1]\n",
    "n_bins = 10\n",
    "\n",
    "\n",
    "\n",
    "galaxy_info = GalaxySurveyInfo(zz, z_med, z0, c_b, z_b, sigma_b, c_0, z_0, sigma_0, f_out, z_bin_m, z_bin_p, n_bins)\n",
    "# Option to compute only parameters, only bias, or all\n",
    "compute_option = 'all'  # \"all\", \"params\", or \"bias\"\n",
    "compute_fiducial = True\n",
    "compute_all_spectra([\"Omegab\",\"Omegam\",\"sigma8\",\"h0\",\"ns\"], fiducial_params,galaxy_info,epsilon, path_save, compute_fiducial, compute_only=compute_option)\n",
    "\n"
   ]
  }
 ],
 "metadata": {
  "interpreter": {
   "hash": "6f29ea70f92c20c0c15a4a0f9d426f87c47718a3c41b78cc5cb84ec455bb7fbd"
  },
  "kernelspec": {
   "display_name": "Python 3.7.4 ('base')",
   "language": "python",
   "name": "python3"
  },
  "language_info": {
   "codemirror_mode": {
    "name": "ipython",
    "version": 3
   },
   "file_extension": ".py",
   "mimetype": "text/x-python",
   "name": "python",
   "nbconvert_exporter": "python",
   "pygments_lexer": "ipython3",
   "version": "3.11.8"
  }
 },
 "nbformat": 4,
 "nbformat_minor": 2
}
