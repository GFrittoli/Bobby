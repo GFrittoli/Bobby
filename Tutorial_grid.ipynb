{
 "cells": [
  {
   "cell_type": "code",
   "execution_count": 2,
   "metadata": {},
   "outputs": [
    {
     "ename": "TypeError",
     "evalue": "compute_all_spectra() got multiple values for argument 'compute_only'",
     "output_type": "error",
     "traceback": [
      "\u001b[0;31m---------------------------------------------------------------------------\u001b[0m",
      "\u001b[0;31mTypeError\u001b[0m                                 Traceback (most recent call last)",
      "Cell \u001b[0;32mIn[2], line 58\u001b[0m\n\u001b[1;32m     55\u001b[0m \u001b[38;5;66;03m# Option to compute only parameters, only bias, or all\u001b[39;00m\n\u001b[1;32m     56\u001b[0m compute_option \u001b[38;5;241m=\u001b[39m \u001b[38;5;124m\"\u001b[39m\u001b[38;5;124mparams\u001b[39m\u001b[38;5;124m\"\u001b[39m  \u001b[38;5;66;03m# \"all\", \"params\", or \"bias\"\u001b[39;00m\n\u001b[0;32m---> 58\u001b[0m compute_all_spectra([\u001b[38;5;124m\"\u001b[39m\u001b[38;5;124mh0\u001b[39m\u001b[38;5;124m\"\u001b[39m], fiducial_params,zz,z_med, z_bin_m, z_bin_p, z_mid, epsilon, epsilon, path_save, compute_fiducial, compute_only\u001b[38;5;241m=\u001b[39mcompute_option)\n",
      "\u001b[0;31mTypeError\u001b[0m: compute_all_spectra() got multiple values for argument 'compute_only'"
     ]
    }
   ],
   "source": [
    "import numpy as np\n",
    "from CAMB_grid import CAMBparameters, compute_all_spectra\n",
    "\n",
    "# Constants\n",
    "step = 0.01\n",
    "epsilon = [-10*step,0*step, +10*step]\n",
    "\n",
    "\n",
    "# Define fiducial parameters\n",
    "fiducial_params = CAMBparameters(\n",
    "    As=2.12605e-9,\n",
    "    ns=0.96,\n",
    "    H0=67.0,\n",
    "    ombh2=0.05 * 0.67 ** 2,\n",
    "    omch2=0.268565 * 0.67 ** 2,\n",
    "    tau=0.058\n",
    ")\n",
    "\n",
    "## GALAXY SURVEY INFO ##\n",
    "\n",
    "zz = np.arange(0.001,2.501, 0.001)\n",
    "\n",
    "z_med = 0.9\n",
    "\n",
    "z0 = z_med/(np.sqrt(2))\n",
    "\n",
    "c_b = 1.0\n",
    "\n",
    "z_b = 0.0\n",
    "\n",
    "sigma_b = 0.05\n",
    "\n",
    "c_0 = 1.0\n",
    "\n",
    "z_0 = 0.1\n",
    "\n",
    "sigma_0 = 0.05\n",
    "\n",
    "f_out = 0.1\n",
    "\n",
    "z_bin_m = [0.001, 0.418, 0.560, 0.678, 0.789, 0.900, 1.019, 1.155, 1.324,\n",
    "\n",
    "           1.576, 2.500]\n",
    "\n",
    "z_bin_p = [0.001, 0.418, 0.560, 0.678, 0.789, 0.900, 1.019, 1.155, 1.324,\n",
    "\n",
    "           1.576, 2.500]\n",
    "\n",
    "z_mid = [(z_bin_p[i+1]+z_bin_m[i])/2 for i in range(len(z_bin_m)-1)]\n",
    "path_save = '/home/guglielmo/Desktop/Codes/guglielmo/GR_test4'\n",
    "\n",
    "# Compute all spectra\n",
    "compute_fiducial = True\n",
    "\n",
    "# Option to compute only parameters, only bias, or all\n",
    "compute_option = \"params\"  # \"all\", \"params\", or \"bias\"\n",
    "\n",
    "compute_all_spectra([\"h0\"], fiducial_params,zz,z_med, z_bin_m, z_bin_p, z_mid, epsilon, epsilon, path_save, compute_fiducial, compute_only=compute_option)\n",
    "\n"
   ]
  }
 ],
 "metadata": {
  "interpreter": {
   "hash": "6f29ea70f92c20c0c15a4a0f9d426f87c47718a3c41b78cc5cb84ec455bb7fbd"
  },
  "kernelspec": {
   "display_name": "Python 3.7.4 ('base')",
   "language": "python",
   "name": "python3"
  },
  "language_info": {
   "codemirror_mode": {
    "name": "ipython",
    "version": 3
   },
   "file_extension": ".py",
   "mimetype": "text/x-python",
   "name": "python",
   "nbconvert_exporter": "python",
   "pygments_lexer": "ipython3",
   "version": "3.11.8"
  }
 },
 "nbformat": 4,
 "nbformat_minor": 2
}
